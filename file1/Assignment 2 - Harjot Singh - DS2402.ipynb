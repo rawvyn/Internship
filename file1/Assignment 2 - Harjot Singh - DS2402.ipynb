{
 "cells": [
  {
   "cell_type": "markdown",
   "id": "4bba8d83",
   "metadata": {},
   "source": [
    "# Assignment 2 = Regex"
   ]
  },
  {
   "cell_type": "code",
   "execution_count": 3,
   "id": "8bfc6853",
   "metadata": {},
   "outputs": [
    {
     "name": "stdout",
     "output_type": "stream",
     "text": [
      "Requirement already satisfied: numpy in c:\\users\\harjo\\anaconda3\\lib\\site-packages (1.24.3)\n"
     ]
    }
   ],
   "source": [
    "!pip install numpy"
   ]
  },
  {
   "cell_type": "code",
   "execution_count": 4,
   "id": "af92fab0",
   "metadata": {},
   "outputs": [],
   "source": [
    "import numpy as np"
   ]
  },
  {
   "cell_type": "code",
   "execution_count": 5,
   "id": "451bbf63",
   "metadata": {
    "scrolled": true
   },
   "outputs": [
    {
     "name": "stdout",
     "output_type": "stream",
     "text": [
      "Requirement already satisfied: pandas in c:\\users\\harjo\\anaconda3\\lib\\site-packages (2.1.1)\n",
      "Requirement already satisfied: numpy>=1.23.2 in c:\\users\\harjo\\anaconda3\\lib\\site-packages (from pandas) (1.24.3)\n",
      "Requirement already satisfied: python-dateutil>=2.8.2 in c:\\users\\harjo\\anaconda3\\lib\\site-packages (from pandas) (2.8.2)\n",
      "Requirement already satisfied: pytz>=2020.1 in c:\\users\\harjo\\anaconda3\\lib\\site-packages (from pandas) (2023.3.post1)\n",
      "Requirement already satisfied: tzdata>=2022.1 in c:\\users\\harjo\\anaconda3\\lib\\site-packages (from pandas) (2023.3)\n",
      "Requirement already satisfied: six>=1.5 in c:\\users\\harjo\\anaconda3\\lib\\site-packages (from python-dateutil>=2.8.2->pandas) (1.16.0)\n"
     ]
    }
   ],
   "source": [
    "!pip install pandas"
   ]
  },
  {
   "cell_type": "code",
   "execution_count": 6,
   "id": "8979950e",
   "metadata": {},
   "outputs": [],
   "source": [
    "import pandas as pd"
   ]
  },
  {
   "cell_type": "code",
   "execution_count": 8,
   "id": "01bb78e2",
   "metadata": {},
   "outputs": [],
   "source": [
    "import matplotlib.pyplot as plt\n",
    "%matplotlib inline"
   ]
  },
  {
   "cell_type": "markdown",
   "id": "fd8374c9",
   "metadata": {},
   "source": [
    "Question 1- Write a Python program to replace all occurrences of a space, comma, or dot with a colon.\n",
    "Sample Text- 'Python Exercises, PHP exercises.'\n",
    "Expected Output: Python:Exercises::PHP:exercises:"
   ]
  },
  {
   "cell_type": "code",
   "execution_count": 14,
   "id": "9414b193",
   "metadata": {},
   "outputs": [
    {
     "name": "stdout",
     "output_type": "stream",
     "text": [
      "Python:Exercises::PHP:exercises:\n"
     ]
    }
   ],
   "source": [
    "def replace_characters(text):\n",
    "    for ch in [' ', ',', '.']:\n",
    "        if ch in text:\n",
    "            text = text.replace(ch, ':')\n",
    "    return text\n",
    "sample_text = 'Python Exercises, PHP exercises.'\n",
    "print(replace_characters(sample_text))"
   ]
  },
  {
   "cell_type": "markdown",
   "id": "34b8fc0c",
   "metadata": {},
   "source": [
    "Question 2-  Create a dataframe using the dictionary below and remove everything (commas (,), !, XXXX, ;, etc.) from the columns except words.\n",
    "Dictionary- {'SUMMARY' : ['hello, world!', 'XXXXX test', '123four, five:; six...']}\n",
    "Expected output-\n",
    "0      hello world\n",
    "1             test\n",
    "2    four five six"
   ]
  },
  {
   "cell_type": "code",
   "execution_count": 65,
   "id": "f538f25f",
   "metadata": {},
   "outputs": [
    {
     "name": "stdout",
     "output_type": "stream",
     "text": [
      "         SUMMARY\n",
      "0    hello world\n",
      "1     XXXXX test\n",
      "2  four five six\n"
     ]
    }
   ],
   "source": [
    "import re\n",
    "\n",
    "# Create a DataFrame from dictionary\n",
    "df = pd.DataFrame({'SUMMARY' : ['hello, world!', 'XXXXX test', '123four, five:; six...']})\n",
    "\n",
    "# Define a function to clean the text\n",
    "def clean_text(text):\n",
    "    # Remove everything except words\n",
    "    text = re.sub('[^a-zA-Z\\s]', '', text)\n",
    "    return text\n",
    "\n",
    "# Apply the function to the 'SUMMARY' column\n",
    "df['SUMMARY'] = df['SUMMARY'].apply(clean_text)\n",
    "\n",
    "print(df)"
   ]
  },
  {
   "cell_type": "markdown",
   "id": "0125ea7b",
   "metadata": {},
   "source": [
    "Question 3- Create a function in python to find all words that are at least 4 characters long in a string. The use of the re.compile() method is mandatory."
   ]
  },
  {
   "cell_type": "code",
   "execution_count": 66,
   "id": "791fa24e",
   "metadata": {},
   "outputs": [
    {
     "name": "stdout",
     "output_type": "stream",
     "text": [
      "['writing', 'discovering', 'what', 'believe']\n"
     ]
    }
   ],
   "source": [
    "def find_long_words(text):\n",
    "    # Compile a regular expression pattern into a regular expression object\n",
    "    pattern = re.compile(r'\\b\\w{4,}\\b')\n",
    "    # Find all substrings where the pattern matches and return them as a list\n",
    "    long_words = pattern.findall(text)\n",
    "    return long_words\n",
    "\n",
    "# Test the function\n",
    "text = \"The art of writing is the art of discovering what you believe.\"\n",
    "print(find_long_words(text))"
   ]
  },
  {
   "cell_type": "markdown",
   "id": "84f48553",
   "metadata": {},
   "source": [
    "Question 4- Create a function in python to find all three, four, and five character words in a string. The use of the re.compile() method is mandatory."
   ]
  },
  {
   "cell_type": "code",
   "execution_count": 67,
   "id": "56db718c",
   "metadata": {},
   "outputs": [
    {
     "name": "stdout",
     "output_type": "stream",
     "text": [
      "['Great', 'those', 'who', 'don', 'stop', 'and', 'being']\n"
     ]
    }
   ],
   "source": [
    "def find_words(text):\n",
    "    # Compile a regular expression pattern into a regular expression object\n",
    "    pattern = re.compile(r'\\b\\w{3,5}\\b')\n",
    "    # Find all substrings where the pattern matches and return them as a list\n",
    "    words = pattern.findall(text)\n",
    "    return words\n",
    "\n",
    "# Test the function\n",
    "text = \"Great things happen to those who don't stop believing, trying, learning, and being grateful.\"\n",
    "print(find_words(text))"
   ]
  },
  {
   "cell_type": "markdown",
   "id": "c4f7f1af",
   "metadata": {},
   "source": [
    "Question 5- Create a function in Python to remove the parenthesis in a list of strings. The use of the re.compile() method is mandatory.\n",
    "Sample Text: [\"example (.com)\", \"hr@fliprobo (.com)\", \"github (.com)\", \"Hello (Data Science World)\", \"Data (Scientist)\"]\n",
    "Expected Output:\n",
    "example.com\n",
    "hr@fliprobo.com\n",
    "github.com\n",
    "Hello Data Science World\n",
    "Data Scientist"
   ]
  },
  {
   "cell_type": "code",
   "execution_count": 23,
   "id": "a168fe22",
   "metadata": {},
   "outputs": [
    {
     "name": "stdout",
     "output_type": "stream",
     "text": [
      "example.com\n",
      "hr@fliprobo.com\n",
      "github.com\n",
      "HelloDataScienceWorld\n",
      "DataScientist\n"
     ]
    }
   ],
   "source": [
    "def remove_parentheses(lst):\n",
    "    # Compile a regular expression pattern into a regular expression object\n",
    "    pattern = re.compile(r'\\((.*?)\\)')\n",
    "    # Apply the pattern to each string in the list\n",
    "    return [pattern.sub(r'\\1', s).replace(' ', '') for s in lst]\n",
    "\n",
    "# Test the function\n",
    "sample_text = [\"example (.com)\", \"hr@fliprobo (.com)\", \"github (.com)\", \"Hello (Data Science World)\", \"Data (Scientist)\"]\n",
    "print('\\n'.join(remove_parentheses(sample_text)))"
   ]
  },
  {
   "cell_type": "markdown",
   "id": "aee92da3",
   "metadata": {},
   "source": [
    "Question 6- Write a python program to remove the parenthesis area from the text stored in the text file using Regular Expression.\n",
    "Sample Text: [\"example (.com)\", \"hr@fliprobo (.com)\", \"github (.com)\", \"Hello (Data Science World)\", \"Data (Scientist)\"]\n",
    "Expected Output: [\"example\", \"hr@fliprobo\", \"github\", \"Hello\", \"Data\"]\n",
    "Note- Store given sample text in the text file and then to remove the parenthesis area from the text."
   ]
  },
  {
   "cell_type": "code",
   "execution_count": 25,
   "id": "007db60f",
   "metadata": {},
   "outputs": [
    {
     "name": "stdout",
     "output_type": "stream",
     "text": [
      "['example', 'hr@fliprobo', 'github', 'Hello', 'Data']\n"
     ]
    }
   ],
   "source": [
    "# Sample text\n",
    "sample_text = [\"example (.com)\", \"hr@fliprobo (.com)\", \"github (.com)\", \"Hello (Data Science World)\", \"Data (Scientist)\"]\n",
    "\n",
    "# Write the sample text to a file\n",
    "with open('sample_text.txt', 'w') as f:\n",
    "    for item in sample_text:\n",
    "        f.write(\"%s\\n\" % item)\n",
    "\n",
    "# Function to remove the area within parentheses\n",
    "def remove_parentheses_area(text_list):\n",
    "    # Compile a regular expression pattern into a regular expression object\n",
    "    pattern = re.compile(r'\\s?\\(.*?\\)')\n",
    "    # Apply the pattern to each string in the list\n",
    "    return [pattern.sub('', s) for s in text_list]\n",
    "\n",
    "# Read the file\n",
    "with open('sample_text.txt', 'r') as f:\n",
    "    lines = f.read().splitlines()\n",
    "\n",
    "# Remove the area within parentheses\n",
    "output = remove_parentheses_area(lines)\n",
    "\n",
    "print(output)"
   ]
  },
  {
   "cell_type": "markdown",
   "id": "4ad3498c",
   "metadata": {},
   "source": [
    "Question 7- Write a regular expression in Python to split a string into uppercase letters.\n",
    "Sample text: “ImportanceOfRegularExpressionsInPython”\n",
    "Expected Output: [‘Importance’, ‘Of’, ‘Regular’, ‘Expression’, ‘In’, ‘Python’]"
   ]
  },
  {
   "cell_type": "code",
   "execution_count": 28,
   "id": "b179dd54",
   "metadata": {},
   "outputs": [
    {
     "name": "stdout",
     "output_type": "stream",
     "text": [
      "['Importance', 'Of', 'Regular', 'Expressions', 'In', 'Python']\n"
     ]
    }
   ],
   "source": [
    "def split_at_uppercase(s):\n",
    "    return re.findall(r'[A-Z][^A-Z]*', s)\n",
    "\n",
    "# Test the function\n",
    "sample_text = \"ImportanceOfRegularExpressionsInPython\"\n",
    "print(split_at_uppercase(sample_text))"
   ]
  },
  {
   "cell_type": "markdown",
   "id": "6227c7fb",
   "metadata": {},
   "source": [
    "Question 8- Create a function in python to insert spaces between words starting with numbers.\n",
    "Sample Text: “RegularExpression1IsAn2ImportantTopic3InPython\"\n",
    "Expected Output: RegularExpression 1IsAn 2ImportantTopic 3InPython"
   ]
  },
  {
   "cell_type": "code",
   "execution_count": 36,
   "id": "ee1c89f5",
   "metadata": {},
   "outputs": [
    {
     "name": "stdout",
     "output_type": "stream",
     "text": [
      "RegularExpression 1IsAn 2ImportantTopic 3InPython\n"
     ]
    }
   ],
   "source": [
    "def insert_spaces(s):\n",
    "    return re.sub(r'(\\d)', r' \\1', s)\n",
    "\n",
    "# Test the function\n",
    "sample_text = \"RegularExpression1IsAn2ImportantTopic3InPython\"\n",
    "print(insert_spaces(sample_text))"
   ]
  },
  {
   "cell_type": "markdown",
   "id": "2ec8fe7c",
   "metadata": {},
   "source": [
    "Question 9- Create a function in python to insert spaces between words starting with capital letters or with numbers.\n",
    "Sample Text: “RegularExpression1IsAn2ImportantTopic3InPython\"\n",
    "Expected Output:  RegularExpression 1 IsAn 2 ImportantTopic 3 InPython"
   ]
  },
  {
   "cell_type": "code",
   "execution_count": 35,
   "id": "7474f6d9",
   "metadata": {},
   "outputs": [
    {
     "name": "stdout",
     "output_type": "stream",
     "text": [
      "RegularExpression 1 IsAn 2 ImportantTopic 3 InPython\n"
     ]
    }
   ],
   "source": [
    "import re\n",
    "\n",
    "def insert_spaces(s):\n",
    "    return re.sub(r'(\\d)', r' \\1 ', s)\n",
    "\n",
    "# Test the function\n",
    "sample_text = \"RegularExpression1IsAn2ImportantTopic3InPython\"\n",
    "print(insert_spaces(sample_text))"
   ]
  },
  {
   "cell_type": "markdown",
   "id": "33e094e3",
   "metadata": {},
   "source": [
    "Question 10- Use the github link below to read the data and create a dataframe. After creating the dataframe extract the first 6 letters of each country and store in the dataframe under a new column called first_five_letters.\n",
    "Github Link-  https://raw.githubusercontent.com/dsrscientist/DSData/master/happiness_score_dataset.csv"
   ]
  },
  {
   "cell_type": "code",
   "execution_count": 41,
   "id": "5433fbe9",
   "metadata": {},
   "outputs": [
    {
     "name": "stdout",
     "output_type": "stream",
     "text": [
      "         Country                           Region  Happiness Rank  \\\n",
      "0    Switzerland                   Western Europe               1   \n",
      "1        Iceland                   Western Europe               2   \n",
      "2        Denmark                   Western Europe               3   \n",
      "3         Norway                   Western Europe               4   \n",
      "4         Canada                    North America               5   \n",
      "..           ...                              ...             ...   \n",
      "153       Rwanda               Sub-Saharan Africa             154   \n",
      "154        Benin               Sub-Saharan Africa             155   \n",
      "155        Syria  Middle East and Northern Africa             156   \n",
      "156      Burundi               Sub-Saharan Africa             157   \n",
      "157         Togo               Sub-Saharan Africa             158   \n",
      "\n",
      "     Happiness Score  Standard Error  Economy (GDP per Capita)   Family  \\\n",
      "0              7.587         0.03411                   1.39651  1.34951   \n",
      "1              7.561         0.04884                   1.30232  1.40223   \n",
      "2              7.527         0.03328                   1.32548  1.36058   \n",
      "3              7.522         0.03880                   1.45900  1.33095   \n",
      "4              7.427         0.03553                   1.32629  1.32261   \n",
      "..               ...             ...                       ...      ...   \n",
      "153            3.465         0.03464                   0.22208  0.77370   \n",
      "154            3.340         0.03656                   0.28665  0.35386   \n",
      "155            3.006         0.05015                   0.66320  0.47489   \n",
      "156            2.905         0.08658                   0.01530  0.41587   \n",
      "157            2.839         0.06727                   0.20868  0.13995   \n",
      "\n",
      "     Health (Life Expectancy)  Freedom  Trust (Government Corruption)  \\\n",
      "0                     0.94143  0.66557                        0.41978   \n",
      "1                     0.94784  0.62877                        0.14145   \n",
      "2                     0.87464  0.64938                        0.48357   \n",
      "3                     0.88521  0.66973                        0.36503   \n",
      "4                     0.90563  0.63297                        0.32957   \n",
      "..                        ...      ...                            ...   \n",
      "153                   0.42864  0.59201                        0.55191   \n",
      "154                   0.31910  0.48450                        0.08010   \n",
      "155                   0.72193  0.15684                        0.18906   \n",
      "156                   0.22396  0.11850                        0.10062   \n",
      "157                   0.28443  0.36453                        0.10731   \n",
      "\n",
      "     Generosity  Dystopia Residual first_six_letters  \n",
      "0       0.29678            2.51738            Switze  \n",
      "1       0.43630            2.70201            Icelan  \n",
      "2       0.34139            2.49204            Denmar  \n",
      "3       0.34699            2.46531            Norway  \n",
      "4       0.45811            2.45176            Canada  \n",
      "..          ...                ...               ...  \n",
      "153     0.22628            0.67042            Rwanda  \n",
      "154     0.18260            1.63328             Benin  \n",
      "155     0.47179            0.32858             Syria  \n",
      "156     0.19727            1.83302            Burund  \n",
      "157     0.16681            1.56726              Togo  \n",
      "\n",
      "[158 rows x 13 columns]\n"
     ]
    }
   ],
   "source": [
    "# Read the data from the CSV file and create a dataframe\n",
    "df = pd.read_csv('https://raw.githubusercontent.com/dsrscientist/DSData/master/happiness_score_dataset.csv')\n",
    "\n",
    "# Extract the first 6 letters of each country and store in a new column\n",
    "df['first_six_letters'] = df['Country'].str.slice(0, 6)\n",
    "\n",
    "print(df)"
   ]
  },
  {
   "cell_type": "markdown",
   "id": "223f98bc",
   "metadata": {},
   "source": [
    "Question 11- Write a Python program to match a string that contains only upper and lowercase letters, numbers, and underscores."
   ]
  },
  {
   "cell_type": "code",
   "execution_count": 46,
   "id": "cf30901b",
   "metadata": {},
   "outputs": [
    {
     "name": "stdout",
     "output_type": "stream",
     "text": [
      "True\n"
     ]
    }
   ],
   "source": [
    "import re\n",
    "\n",
    "def match_string(s):\n",
    "    pattern = r'^\\w+$'\n",
    "    if re.match(pattern, s):\n",
    "        return True\n",
    "    else:\n",
    "        return False\n",
    "\n",
    "# Test the function\n",
    "sample_text = \"IronMan1_IsBetter2_than3_CaptainAmerica\"\n",
    "print(match_string(sample_text))"
   ]
  },
  {
   "cell_type": "markdown",
   "id": "459cdee2",
   "metadata": {},
   "source": [
    "Question 12- Write a Python program where a string will start with a specific number."
   ]
  },
  {
   "cell_type": "code",
   "execution_count": 45,
   "id": "c2e48f74",
   "metadata": {},
   "outputs": [
    {
     "name": "stdout",
     "output_type": "stream",
     "text": [
      "True\n"
     ]
    }
   ],
   "source": [
    "def start_with_number(s, num=1):\n",
    "    return str(s).startswith(str(num))\n",
    "\n",
    "# Test the function\n",
    "sample_text = \"1LetItGo\"\n",
    "print(start_with_number(sample_text))"
   ]
  },
  {
   "cell_type": "markdown",
   "id": "43f62e64",
   "metadata": {},
   "source": [
    "Question 13- Write a Python program to remove leading zeros from an IP address"
   ]
  },
  {
   "cell_type": "code",
   "execution_count": 47,
   "id": "541facd2",
   "metadata": {},
   "outputs": [
    {
     "name": "stdout",
     "output_type": "stream",
     "text": [
      "195.176.2.1\n"
     ]
    }
   ],
   "source": [
    "def remove_leading_zeros(ip):\n",
    "    # Split the IP address into four parts\n",
    "    parts = ip.split(\".\")\n",
    "    # Remove leading zeros in each part and join them back together\n",
    "    new_ip = \".\".join([str(int(part)) for part in parts])\n",
    "    return new_ip\n",
    "\n",
    "# Test the function\n",
    "ip_address = \"195.176.002.001\"\n",
    "print(remove_leading_zeros(ip_address))"
   ]
  },
  {
   "cell_type": "markdown",
   "id": "01a38ad2",
   "metadata": {},
   "source": [
    "Question 14- Write a regular expression in python to match a date string in the form of Month name followed by day number and year stored in a text file.\n",
    "Sample text :  ' On August 15th 1947 that India was declared independent from British colonialism, and the reins of control were handed over to the leaders of the Country’.\n",
    "Expected Output- August 15th 1947\n",
    "Note- Store given sample text in the text file and then extract the date string asked format."
   ]
  },
  {
   "cell_type": "code",
   "execution_count": 10,
   "id": "7a98f4f1",
   "metadata": {},
   "outputs": [
    {
     "name": "stdout",
     "output_type": "stream",
     "text": [
      "August 15th 1947\n"
     ]
    }
   ],
   "source": [
    "import re\n",
    "\n",
    "# Sample text\n",
    "sample_text = \"On August 15th 1947 that India was declared independent from British colonialism, and the reins of control were handed over to the leaders of the Country.\"\n",
    "\n",
    "# Write the sample text to a file\n",
    "with open('sample_text.txt', 'w') as f:\n",
    "    f.write(sample_text)\n",
    "\n",
    "# Function to extract date string\n",
    "def extract_date(filename):\n",
    "    with open(filename, 'r') as f:\n",
    "        text = f.read()\n",
    "    match = re.search(r'(\\b[A-Z][a-z]+\\b \\b\\d{1,2}\\w{2}\\b \\b\\d{4}\\b)', text)\n",
    "    if match:\n",
    "        return match.group(1)\n",
    "    else:\n",
    "        return \"No date string found in the text.\"\n",
    "\n",
    "# Extract date string from the file\n",
    "date_string = extract_date('sample_text.txt')\n",
    "print(date_string)"
   ]
  },
  {
   "cell_type": "markdown",
   "id": "c0c170ec",
   "metadata": {},
   "source": [
    "Question 15- Write a Python program to search some literals strings in a string. \n",
    "Sample text : 'The quick brown fox jumps over the lazy dog.'\n",
    "Searched words : 'fox', 'dog', 'horse'"
   ]
  },
  {
   "cell_type": "code",
   "execution_count": 8,
   "id": "41260f9f",
   "metadata": {},
   "outputs": [
    {
     "name": "stdout",
     "output_type": "stream",
     "text": [
      "['fox', 'dog']\n"
     ]
    }
   ],
   "source": [
    "def search_words(text, words):\n",
    "    found_words = [word for word in words if word in text]\n",
    "    return found_words\n",
    "\n",
    "# Test the function\n",
    "sample_text = 'The quick brown fox jumps over the lazy dog.'\n",
    "searched_words = ['fox', 'dog', 'horse']\n",
    "print(search_words(sample_text, searched_words))"
   ]
  },
  {
   "cell_type": "markdown",
   "id": "335e0583",
   "metadata": {},
   "source": [
    "Question 16- Write a Python program to search a literals string in a string and also find the location within the original string where the pattern occurs\n",
    "Sample text : 'The quick brown fox jumps over the lazy dog.'\n",
    "Searched words : 'fox'\n"
   ]
  },
  {
   "cell_type": "code",
   "execution_count": 9,
   "id": "e7a490dd",
   "metadata": {},
   "outputs": [
    {
     "name": "stdout",
     "output_type": "stream",
     "text": [
      "'fox' found at index 16\n"
     ]
    }
   ],
   "source": [
    "def search_word(text, word):\n",
    "    index = text.find(word)\n",
    "    if index != -1:\n",
    "        return f\"'{word}' found at index {index}\"\n",
    "    else:\n",
    "        return f\"'{word}' not found in text\"\n",
    "\n",
    "# Test the function\n",
    "sample_text = 'The quick brown fox jumps over the lazy dog.'\n",
    "searched_word = 'fox'\n",
    "print(search_word(sample_text, searched_word))"
   ]
  },
  {
   "cell_type": "markdown",
   "id": "5a1e4d5c",
   "metadata": {},
   "source": [
    "Question 17- Write a Python program to find the substrings within a string.\n",
    "Sample text : 'Python exercises, PHP exercises, C# exercises'\n",
    "Pattern : 'exercises'."
   ]
  },
  {
   "cell_type": "code",
   "execution_count": 7,
   "id": "2f89fbe1",
   "metadata": {},
   "outputs": [
    {
     "name": "stdout",
     "output_type": "stream",
     "text": [
      "[7, 22, 36]\n"
     ]
    }
   ],
   "source": [
    "import re\n",
    "\n",
    "def find_substrings(text, pattern):\n",
    "    matches = re.finditer(pattern, text)\n",
    "    positions = [match.start() for match in matches]\n",
    "    return positions\n",
    "\n",
    "text = 'Python exercises, PHP exercises, C# exercises'\n",
    "pattern = 'exercises'\n",
    "\n",
    "print(find_substrings(text, pattern))\n"
   ]
  },
  {
   "cell_type": "markdown",
   "id": "a03e1a4a",
   "metadata": {},
   "source": [
    "Question 18- Write a Python program to find the occurrence and position of the substrings within a string."
   ]
  },
  {
   "cell_type": "code",
   "execution_count": 5,
   "id": "65094032",
   "metadata": {},
   "outputs": [
    {
     "name": "stdout",
     "output_type": "stream",
     "text": [
      "[{'substring': 'exercises', 'position': 7}, {'substring': 'exercises', 'position': 22}, {'substring': 'exercises', 'position': 36}]\n"
     ]
    }
   ],
   "source": [
    "import re\n",
    "\n",
    "def find_substrings(text, pattern):\n",
    "    matches = re.finditer(pattern, text)\n",
    "    occurrences = [{'substring': match.group(), 'position': match.start()} for match in matches]\n",
    "    return occurrences\n",
    "\n",
    "text = 'Python exercises, PHP exercises, C# exercises'\n",
    "pattern = 'exercises'\n",
    "\n",
    "print(find_substrings(text, pattern))"
   ]
  },
  {
   "cell_type": "markdown",
   "id": "f05b3bf3",
   "metadata": {},
   "source": [
    "Question 19- Write a Python program to convert a date of yyyy-mm-dd format to dd-mm-yyyy format."
   ]
  },
  {
   "cell_type": "code",
   "execution_count": 6,
   "id": "a8de17eb",
   "metadata": {},
   "outputs": [
    {
     "name": "stdout",
     "output_type": "stream",
     "text": [
      "06-03-2024\n"
     ]
    }
   ],
   "source": [
    "from datetime import datetime\n",
    "\n",
    "def convert_date_format(date_string):\n",
    "    date_object = datetime.strptime(date_string, '%Y-%m-%d')\n",
    "    return date_object.strftime('%d-%m-%Y')\n",
    "\n",
    "date_string = '2024-03-06'\n",
    "print(convert_date_format(date_string))"
   ]
  },
  {
   "cell_type": "markdown",
   "id": "b1907695",
   "metadata": {},
   "source": [
    "Question 20- Create a function in python to find all decimal numbers with a precision of 1 or 2 in a string. The use of the re.compile() method is mandatory.\n",
    "Sample Text: \"01.12 0132.123 2.31875 145.8 3.01 27.25 0.25\"\n",
    "Expected Output: ['01.12', '145.8', '3.01', '27.25', '0.25']"
   ]
  },
  {
   "cell_type": "code",
   "execution_count": 56,
   "id": "1870a22d",
   "metadata": {},
   "outputs": [
    {
     "name": "stdout",
     "output_type": "stream",
     "text": [
      "['01.12', '145.8', '3.01', '27.25', '0.25']\n"
     ]
    }
   ],
   "source": [
    "import re\n",
    "\n",
    "def find_decimals(text):\n",
    "    pattern = re.compile(r'\\b\\d+\\.\\d{1,2}\\b')\n",
    "    matches = pattern.findall(text)\n",
    "    return matches\n",
    "\n",
    "text = \"01.12 0132.123 2.31875 145.8 3.01 27.25 0.25\"\n",
    "print(find_decimals(text))"
   ]
  },
  {
   "cell_type": "markdown",
   "id": "1bd54a3c",
   "metadata": {},
   "source": [
    "Question 21- Write a Python program to separate and print the numbers and their position of a given string."
   ]
  },
  {
   "cell_type": "code",
   "execution_count": 12,
   "id": "16a0d1b6",
   "metadata": {},
   "outputs": [
    {
     "name": "stdout",
     "output_type": "stream",
     "text": [
      "[{'number': '34', 'position': 24}, {'number': '123', 'position': 52}]\n"
     ]
    }
   ],
   "source": [
    "import re\n",
    "\n",
    "def find_numbers(text):\n",
    "    pattern = re.compile(r'\\d+')\n",
    "    matches = pattern.finditer(text)\n",
    "    numbers_positions = [{'number': match.group(), 'position': match.start()} for match in matches]\n",
    "    return numbers_positions\n",
    "\n",
    "text = \"A room without books is 34like a body without a soul123s.\"\n",
    "\n",
    "print(find_numbers(text))"
   ]
  },
  {
   "cell_type": "markdown",
   "id": "a8c26659",
   "metadata": {},
   "source": [
    "Question 22- Write a regular expression in python program to extract maximum/largest numeric value from a string.\n",
    "Sample Text:  'My marks in each semester are: 947, 896, 926, 524, 734, 950, 642'\n",
    "Expected Output: 950"
   ]
  },
  {
   "cell_type": "code",
   "execution_count": 62,
   "id": "a5de4fa1",
   "metadata": {},
   "outputs": [
    {
     "name": "stdout",
     "output_type": "stream",
     "text": [
      "950\n"
     ]
    }
   ],
   "source": [
    "import re\n",
    "\n",
    "def find_max_number(text):\n",
    "    numbers = [int(num) for num in re.findall(r'\\d+', text)]\n",
    "    return max(numbers)\n",
    "\n",
    "text = 'My marks in each semester are: 947, 896, 926, 524, 734, 950, 642'\n",
    "print(find_max_number(text))"
   ]
  },
  {
   "cell_type": "markdown",
   "id": "fa416b60",
   "metadata": {},
   "source": [
    "Question 23- Create a function in python to insert spaces between words starting with capital letters.\n",
    "Sample Text: “RegularExpressionIsAnImportantTopicInPython\"\n",
    "Expected Output: Regular Expression Is An Important Topic In Python"
   ]
  },
  {
   "cell_type": "code",
   "execution_count": 69,
   "id": "2674049e",
   "metadata": {},
   "outputs": [
    {
     "name": "stdout",
     "output_type": "stream",
     "text": [
      "Regular Expression Is An Important Topic In Python\n"
     ]
    }
   ],
   "source": [
    "def insert_spaces(text):\n",
    "    return re.sub(r'(?<=[a-z])(?=[A-Z])', ' ', text)\n",
    "\n",
    "text = 'RegularExpressionIsAnImportantTopicInPython'\n",
    "print(insert_spaces(text))"
   ]
  },
  {
   "cell_type": "markdown",
   "id": "5f7657ff",
   "metadata": {},
   "source": [
    "Question 24- Python regex to find sequences of one upper case letter followed by lower case letters"
   ]
  },
  {
   "cell_type": "code",
   "execution_count": 70,
   "id": "51785185",
   "metadata": {},
   "outputs": [
    {
     "name": "stdout",
     "output_type": "stream",
     "text": [
      "['Regular', 'Expression', 'Is', 'An', 'Important', 'Topic', 'In', 'Python']\n"
     ]
    }
   ],
   "source": [
    "import re\n",
    "\n",
    "def find_sequences(text):\n",
    "    pattern = re.compile(r'[A-Z][a-z]*')\n",
    "    matches = pattern.findall(text)\n",
    "    return matches\n",
    "\n",
    "text = 'RegularExpressionIsAnImportantTopicInPython'\n",
    "print(find_sequences(text))"
   ]
  },
  {
   "cell_type": "markdown",
   "id": "c56f8eae",
   "metadata": {},
   "source": [
    "Question 25- Write a Python program to remove continuous duplicate words from Sentence using Regular Expression.\n",
    "Sample Text: \"Hello hello world world\"\n",
    "Expected Output: Hello hello world\n"
   ]
  },
  {
   "cell_type": "code",
   "execution_count": 71,
   "id": "d18569e7",
   "metadata": {},
   "outputs": [
    {
     "name": "stdout",
     "output_type": "stream",
     "text": [
      "Hello hello world\n"
     ]
    }
   ],
   "source": [
    "import re\n",
    "\n",
    "def remove_continuous_duplicates(text):\n",
    "    pattern = re.compile(r'\\b(\\w+)( \\1\\b)+')\n",
    "    return pattern.sub(r'\\1', text)\n",
    "\n",
    "text = 'Hello hello world world'\n",
    "print(remove_continuous_duplicates(text))"
   ]
  },
  {
   "cell_type": "markdown",
   "id": "265764aa",
   "metadata": {},
   "source": [
    "Question 26-  Write a python program using RegEx to accept string ending with alphanumeric character."
   ]
  },
  {
   "cell_type": "code",
   "execution_count": 78,
   "id": "0bfd1492",
   "metadata": {},
   "outputs": [
    {
     "name": "stdout",
     "output_type": "stream",
     "text": [
      "False\n",
      "True\n"
     ]
    }
   ],
   "source": [
    "import re\n",
    "\n",
    "def is_alphanumeric_end(text):\n",
    "    pattern = re.compile(r'\\w$')\n",
    "    return bool(pattern.search(text))\n",
    "\n",
    "text = 'IgotU123!'\n",
    "print(is_alphanumeric_end(text))  # False\n",
    "\n",
    "text = 'IgotU123'\n",
    "print(is_alphanumeric_end(text))  # True\n"
   ]
  },
  {
   "cell_type": "markdown",
   "id": "f602b24a",
   "metadata": {},
   "source": [
    "Question 27-Write a python program using RegEx to extract the hashtags.\n",
    "Sample Text:  \"\"\"RT @kapil_kausik: #Doltiwal I mean #xyzabc is \"hurt\" by #Demonetization as the same has rendered USELESS <ed><U+00A0><U+00BD><ed><U+00B1><U+0089> \"acquired funds\" No wo\"\"\"\n",
    "Expected Output: ['#Doltiwal', '#xyzabc', '#Demonetization']"
   ]
  },
  {
   "cell_type": "code",
   "execution_count": 73,
   "id": "8c42ee8b",
   "metadata": {},
   "outputs": [
    {
     "name": "stdout",
     "output_type": "stream",
     "text": [
      "['#Doltiwal', '#xyzabc', '#Demonetization']\n"
     ]
    }
   ],
   "source": [
    "import re\n",
    "\n",
    "def extract_hashtags(text):\n",
    "    pattern = re.compile(r'#\\w+')\n",
    "    return pattern.findall(text)\n",
    "\n",
    "text = 'RT @kapil_kausik: #Doltiwal I mean #xyzabc is \"hurt\" by #Demonetization as the same has rendered USELESS <ed><U+00A0><U+00BD><ed><U+00B1><U+0089> \"acquired funds\" No wo'\n",
    "print(extract_hashtags(text))"
   ]
  },
  {
   "cell_type": "markdown",
   "id": "914919f0",
   "metadata": {},
   "source": [
    "Question 28- Write a python program using RegEx to remove <U+..> like symbols\n",
    "Check the below sample text, there are strange symbols something of the sort <U+..> all over the place. You need to come up with a general Regex expression that will cover all such symbols.\n",
    "Sample Text: \"@Jags123456 Bharat band on 28??<ed><U+00A0><U+00BD><ed><U+00B8><U+0082>Those who  are protesting #demonetization  are all different party leaders\"\n",
    "Expected Output: @Jags123456 Bharat band on 28??<ed><ed>Those who  are protesting #demonetization  are all different party leaders"
   ]
  },
  {
   "cell_type": "code",
   "execution_count": 76,
   "id": "5a84d127",
   "metadata": {},
   "outputs": [
    {
     "name": "stdout",
     "output_type": "stream",
     "text": [
      "@Jags123456 Bharat band on 28??<ed><ed>Those who  are protesting #demonetization  are all different party leaders\n"
     ]
    }
   ],
   "source": [
    "import re\n",
    "\n",
    "def remove_symbols(text):\n",
    "    pattern = re.compile(r'<U\\+\\w+>')\n",
    "    return pattern.sub('', text)\n",
    "\n",
    "text = '@Jags123456 Bharat band on 28??<ed><U+00A0><U+00BD><ed><U+00B8><U+0082>Those who  are protesting #demonetization  are all different party leaders'\n",
    "print(remove_symbols(text))"
   ]
  },
  {
   "cell_type": "markdown",
   "id": "e64d31c9",
   "metadata": {},
   "source": [
    "Question 29- Write a python program to extract dates from the text stored in the text file.\n",
    "Sample Text: Ron was born on 12-09-1992 and he was admitted to school 15-12-1999.\n",
    "Note- Store this sample text in the file and then extract dates."
   ]
  },
  {
   "cell_type": "code",
   "execution_count": 80,
   "id": "5ab26565",
   "metadata": {},
   "outputs": [
    {
     "name": "stdout",
     "output_type": "stream",
     "text": [
      "['12-09-1992', '15-12-1999']\n"
     ]
    }
   ],
   "source": [
    "import re\n",
    "\n",
    "with open('sample.txt', 'w') as f:\n",
    "    f.write('Ron was born on 12-09-1992 and he was admitted to school 15-12-1999.')\n",
    "    \n",
    "def extract_dates(filename):\n",
    "    with open(filename, 'r') as f:\n",
    "        text = f.read()\n",
    "    dates = re.findall(r'\\d{2}-\\d{2}-\\d{4}', text)\n",
    "    return dates\n",
    "\n",
    "print(extract_dates('sample.txt'))"
   ]
  },
  {
   "cell_type": "markdown",
   "id": "5fc58dde",
   "metadata": {},
   "source": [
    "Question 30- Create a function in python to remove all words from a string of length between 2 and 4.\n",
    "The use of the re.compile() method is mandatory.\n",
    "Sample Text: \"The following example creates an ArrayList with a capacity of 50 elements. 4 elements are then added to the ArrayList and the ArrayList is trimmed accordingly.\"\n",
    "Expected Output:  following example creates ArrayList a capacity elements. 4 elements added ArrayList ArrayList trimmed accordingly."
   ]
  },
  {
   "cell_type": "code",
   "execution_count": 88,
   "id": "9fba2c65",
   "metadata": {},
   "outputs": [
    {
     "name": "stdout",
     "output_type": "stream",
     "text": [
      " following example creates  ArrayList  a capacity   elements. 4 elements   added   ArrayList   ArrayList  trimmed accordingly.\n"
     ]
    }
   ],
   "source": [
    "import re\n",
    "\n",
    "def remove_words(text):\n",
    "    pattern = re.compile(r'\\b\\w{2,4}\\b')\n",
    "    return pattern.sub('', text)\n",
    "\n",
    "text = \"The following example creates an ArrayList with a capacity of 50 elements. 4 elements are then added to the ArrayList and the ArrayList is trimmed accordingly.\"\n",
    "print(remove_words(text))"
   ]
  },
  {
   "cell_type": "markdown",
   "id": "41945cd8",
   "metadata": {},
   "source": [
    "# Submitted by: Harjot Singh, Intern No. 2402"
   ]
  }
 ],
 "metadata": {
  "kernelspec": {
   "display_name": "Python 3 (ipykernel)",
   "language": "python",
   "name": "python3"
  },
  "language_info": {
   "codemirror_mode": {
    "name": "ipython",
    "version": 3
   },
   "file_extension": ".py",
   "mimetype": "text/x-python",
   "name": "python",
   "nbconvert_exporter": "python",
   "pygments_lexer": "ipython3",
   "version": "3.11.5"
  }
 },
 "nbformat": 4,
 "nbformat_minor": 5
}
